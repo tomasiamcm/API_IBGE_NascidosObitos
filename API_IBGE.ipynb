{
 "cells": [
  {
   "cell_type": "code",
   "execution_count": null,
   "id": "490fe2dc-dd9d-4044-ae43-032f8ebfb4e2",
   "metadata": {},
   "outputs": [],
   "source": [
    "# Importando as bibliotecas\n",
    "import urllib3\n",
    "import json\n",
    "import matplotlib.pyplot as plt\n",
    "import numpy as np"
   ]
  },
  {
   "cell_type": "code",
   "execution_count": null,
   "id": "a7c1905e-f5bf-4210-bca7-8636e5e03b49",
   "metadata": {},
   "outputs": [],
   "source": [
    "http = urllib3.PoolManager()\n",
    "urlPoralApiIBGE = \"http://servicodados.ibge.gov.br/api/v1/projecoes/populacao\"\n",
    "response = http.request('GET', urlPoralApiIBGE)\n",
    "print(\"Response Status: \",response.status)"
   ]
  },
  {
   "cell_type": "code",
   "execution_count": null,
   "id": "2cd08d8c-a29c-43c9-881f-560585dc1e80",
   "metadata": {},
   "outputs": [],
   "source": [
    "data_response = response.data.decode(\"utf-8\")\n",
    "data_response                                     "
   ]
  },
  {
   "cell_type": "code",
   "execution_count": null,
   "id": "d0bfce4b-5de8-4dc1-9fc9-54e16436c2bf",
   "metadata": {},
   "outputs": [],
   "source": [
    "data_json = json.loads(data_response)\n",
    "print(data_json)"
   ]
  },
  {
   "cell_type": "code",
   "execution_count": null,
   "id": "1e9c0252-6c58-48a4-8f06-815399286942",
   "metadata": {},
   "outputs": [],
   "source": [
    "print(data_json[\"horario\"])"
   ]
  },
  {
   "cell_type": "code",
   "execution_count": null,
   "id": "2a5d9aea-eca1-4c18-8cc7-3dc691b86e23",
   "metadata": {},
   "outputs": [],
   "source": [
    "print(data_json[\"projecao\"][\"periodoMedio\"])"
   ]
  },
  {
   "cell_type": "code",
   "execution_count": null,
   "id": "cd817f4e-98d0-4a17-a4b3-650150208f38",
   "metadata": {},
   "outputs": [],
   "source": [
    "data_grafico = data_json[\"projecao\"][\"periodoMedio\"]\n",
    "data_grafico"
   ]
  },
  {
   "cell_type": "code",
   "execution_count": null,
   "id": "19e39a59-e225-41e3-92d5-e903eb752046",
   "metadata": {},
   "outputs": [],
   "source": [
    "totalNascimento = data_grafico[\"nascimento\"]\n",
    "totalObito = data_grafico[\"obito\"]\n",
    "dataAtualizacao = data_json[\"horario\"]\n",
    "print(totalNascimento)\n",
    "print(totalObito)\n",
    "print(dataAtualizacao)"
   ]
  },
  {
   "cell_type": "code",
   "execution_count": null,
   "id": "6794ad25-fb16-4d23-8d25-6afd1c520d7f",
   "metadata": {},
   "outputs": [],
   "source": [
    "labels = [dataAtualizacao]\n",
    "dataNascumento = totalNascimento\n",
    "dataObito = totalObito\n",
    "\n",
    "x = np.arange(len(labels))  # the label locations\n",
    "width = 0.35  # the width of the bars\n",
    "\n",
    "fig, ax = plt.subplots()\n",
    "rects1 = ax.bar(x - width/2, dataNascumento, width, label='Nascimentos')\n",
    "rects2 = ax.bar(x + width/2, dataObito, width, label='Óbitos')\n",
    "\n",
    "# Add some text for labels, title and custom x-axis tick labels, etc.\n",
    "ax.set_ylabel('Quantidade')\n",
    "ax.set_title('IBGE Nascimentos x Óbitos')\n",
    "ax.set_xticks(x, labels)\n",
    "ax.legend()\n",
    "\n",
    "ax.bar_label(rects1, padding=3)\n",
    "ax.bar_label(rects2, padding=3)\n",
    "\n",
    "fig.tight_layout()\n",
    "\n",
    "plt.show()"
   ]
  },
  {
   "cell_type": "code",
   "execution_count": null,
   "id": "ffb6dd29-7a05-4171-a604-057ae01a96bb",
   "metadata": {},
   "outputs": [],
   "source": []
  }
 ],
 "metadata": {
  "kernelspec": {
   "display_name": "Python 3 (ipykernel)",
   "language": "python",
   "name": "python3"
  },
  "language_info": {
   "codemirror_mode": {
    "name": "ipython",
    "version": 3
   },
   "file_extension": ".py",
   "mimetype": "text/x-python",
   "name": "python",
   "nbconvert_exporter": "python",
   "pygments_lexer": "ipython3",
   "version": "3.10.5"
  }
 },
 "nbformat": 4,
 "nbformat_minor": 5
}
