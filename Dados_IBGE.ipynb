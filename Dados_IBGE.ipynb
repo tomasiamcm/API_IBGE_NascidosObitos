{
  "nbformat": 4,
  "nbformat_minor": 0,
  "metadata": {
    "colab": {
      "provenance": [],
      "collapsed_sections": [],
      "authorship_tag": "ABX9TyM8JdJJsTLmdD+1AdEl0+xk",
      "include_colab_link": true
    },
    "kernelspec": {
      "name": "python3",
      "display_name": "Python 3"
    },
    "language_info": {
      "name": "python"
    }
  },
  "cells": [
    {
      "cell_type": "markdown",
      "metadata": {
        "id": "view-in-github",
        "colab_type": "text"
      },
      "source": [
        "<a href=\"https://colab.research.google.com/github/tomasiamussuri/API_IBGE_NascidosObitos/blob/main/Dados_IBGE.ipynb\" target=\"_parent\"><img src=\"https://colab.research.google.com/assets/colab-badge.svg\" alt=\"Open In Colab\"/></a>"
      ]
    },
    {
      "cell_type": "markdown",
      "source": [
        "Importando Bibliotecas"
      ],
      "metadata": {
        "id": "BcSgVcVhmlKS"
      }
    },
    {
      "cell_type": "code",
      "execution_count": 18,
      "metadata": {
        "id": "MZLQS9KLXh8u"
      },
      "outputs": [],
      "source": [
        "import urllib3\n",
        "import json\n",
        "import pandas as pd\n",
        "import matplotlib.pyplot as plt\n",
        "import numpy as np"
      ]
    },
    {
      "cell_type": "markdown",
      "source": [
        "Importando dados da API pública do IBGE"
      ],
      "metadata": {
        "id": "0nORfYyqmguK"
      }
    },
    {
      "cell_type": "code",
      "source": [
        "http = urllib3.PoolManager()\n",
        "urlPoralApiIBGE = \"http://servicodados.ibge.gov.br/api/v1/projecoes/populacao\"\n",
        "response = http.request('GET', urlPoralApiIBGE)\n",
        "print(\"Response Status: \",response.status)"
      ],
      "metadata": {
        "colab": {
          "base_uri": "https://localhost:8080/"
        },
        "id": "eNsXFINBXnFk",
        "outputId": "3d79e1f8-25a0-46da-e49c-e37c0edd4ab3"
      },
      "execution_count": 19,
      "outputs": [
        {
          "output_type": "stream",
          "name": "stdout",
          "text": [
            "Response Status:  200\n"
          ]
        }
      ]
    },
    {
      "cell_type": "code",
      "source": [
        "data_response = response.data.decode(\"utf-8\")\n",
        "data_response  "
      ],
      "metadata": {
        "colab": {
          "base_uri": "https://localhost:8080/",
          "height": 53
        },
        "id": "R1PEZ2-IpRW6",
        "outputId": "7b8ba966-1523-4e97-e291-4a910cb190c3"
      },
      "execution_count": 21,
      "outputs": [
        {
          "output_type": "execute_result",
          "data": {
            "text/plain": [
              "'{\"localidade\":\"0\",\"horario\":\"31/10/2022 17:00:48\",\"projecao\":{\"populacao\":215292853,\"periodoMedio\":{\"incrementoPopulacional\":21355,\"nascimento\":12000,\"obito\":45000}}}'"
            ],
            "application/vnd.google.colaboratory.intrinsic+json": {
              "type": "string"
            }
          },
          "metadata": {},
          "execution_count": 21
        }
      ]
    },
    {
      "cell_type": "code",
      "source": [
        "data_json = json.loads(data_response)\n",
        "print(data_json)"
      ],
      "metadata": {
        "colab": {
          "base_uri": "https://localhost:8080/"
        },
        "id": "Ize_AkZcpU0J",
        "outputId": "0bbde94c-5ad7-4309-e04d-bedaf392bced"
      },
      "execution_count": 22,
      "outputs": [
        {
          "output_type": "stream",
          "name": "stdout",
          "text": [
            "{'localidade': '0', 'horario': '31/10/2022 17:00:48', 'projecao': {'populacao': 215292853, 'periodoMedio': {'incrementoPopulacional': 21355, 'nascimento': 12000, 'obito': 45000}}}\n"
          ]
        }
      ]
    },
    {
      "cell_type": "code",
      "source": [
        "data_json"
      ],
      "metadata": {
        "colab": {
          "base_uri": "https://localhost:8080/"
        },
        "id": "y_vmGdrXpBRW",
        "outputId": "a906d461-827b-4eaa-f64f-df8acc248bb7"
      },
      "execution_count": 23,
      "outputs": [
        {
          "output_type": "execute_result",
          "data": {
            "text/plain": [
              "{'localidade': '0',\n",
              " 'horario': '31/10/2022 17:00:48',\n",
              " 'projecao': {'populacao': 215292853,\n",
              "  'periodoMedio': {'incrementoPopulacional': 21355,\n",
              "   'nascimento': 12000,\n",
              "   'obito': 45000}}}"
            ]
          },
          "metadata": {},
          "execution_count": 23
        }
      ]
    },
    {
      "cell_type": "code",
      "source": [
        "print(data_json[\"horario\"])"
      ],
      "metadata": {
        "colab": {
          "base_uri": "https://localhost:8080/"
        },
        "id": "PRCFiUK-pWX8",
        "outputId": "5db0aca7-ad90-48ef-ec6a-428039b59e14"
      },
      "execution_count": 24,
      "outputs": [
        {
          "output_type": "stream",
          "name": "stdout",
          "text": [
            "31/10/2022 17:00:48\n"
          ]
        }
      ]
    },
    {
      "cell_type": "code",
      "source": [
        "print(data_json[\"projecao\"][\"periodoMedio\"])"
      ],
      "metadata": {
        "colab": {
          "base_uri": "https://localhost:8080/"
        },
        "id": "Uqu7j58opZgq",
        "outputId": "a56cf4d0-353c-43db-b36d-fc4cf0d9da0c"
      },
      "execution_count": 25,
      "outputs": [
        {
          "output_type": "stream",
          "name": "stdout",
          "text": [
            "{'incrementoPopulacional': 21355, 'nascimento': 12000, 'obito': 45000}\n"
          ]
        }
      ]
    },
    {
      "cell_type": "markdown",
      "source": [
        "Armazenando os dados em uma variável"
      ],
      "metadata": {
        "id": "fyMHPcqhpXRw"
      }
    },
    {
      "cell_type": "code",
      "source": [
        "data_grafico = data_json[\"projecao\"][\"periodoMedio\"]\n",
        "data_grafico"
      ],
      "metadata": {
        "colab": {
          "base_uri": "https://localhost:8080/"
        },
        "id": "6TfLl9PypcDZ",
        "outputId": "79809aff-2988-479a-bd80-7e4c21bc53f6"
      },
      "execution_count": 28,
      "outputs": [
        {
          "output_type": "execute_result",
          "data": {
            "text/plain": [
              "{'incrementoPopulacional': 21355, 'nascimento': 12000, 'obito': 45000}"
            ]
          },
          "metadata": {},
          "execution_count": 28
        }
      ]
    },
    {
      "cell_type": "code",
      "source": [
        "totalNascimento = data_grafico[\"nascimento\"]\n",
        "totalObito = data_grafico[\"obito\"]\n",
        "dataAtualizacao = data_json[\"horario\"]\n",
        "print(totalNascimento)\n",
        "print(totalObito)\n",
        "print(dataAtualizacao)"
      ],
      "metadata": {
        "colab": {
          "base_uri": "https://localhost:8080/"
        },
        "id": "brRXqZ_vpejh",
        "outputId": "ddf473ec-bd57-484c-824a-8f60c36fbd01"
      },
      "execution_count": 29,
      "outputs": [
        {
          "output_type": "stream",
          "name": "stdout",
          "text": [
            "12000\n",
            "45000\n",
            "31/10/2022 17:00:48\n"
          ]
        }
      ]
    },
    {
      "cell_type": "code",
      "source": [
        "labels = [dataAtualizacao]\n",
        "dataNascimento = [totalNascimento]\n",
        "dataObito = [totalObito]\n",
        "\n",
        "x = np.arange(len(labels))  # the label locations\n",
        "width = 0.35  # the width of the bars\n",
        "\n",
        "fig, ax = plt.subplots()\n",
        "rects1 = ax.bar(x - width/2, dataNascimento, width, label='Nascimentos')\n",
        "rects2 = ax.bar(x + width/2, dataObito, width, label='Óbitos')\n",
        "\n",
        "# Add some text for labels, title and custom x-axis tick labels, etc.\n",
        "ax.set_ylabel('Quantidade')\n",
        "ax.set_title('IBGE Nascimentos x Óbitos')\n",
        "ax.set_xticks(x)\n",
        "ax.set_xticklabels(labels)\n",
        "ax.legend()\n",
        "\n",
        "ax.bar_label(rects1, padding=3)\n",
        "ax.bar_label(rects2, padding=3)\n",
        "\n",
        "fig.tight_layout()\n",
        "\n",
        "plt.show()"
      ],
      "metadata": {
        "colab": {
          "base_uri": "https://localhost:8080/",
          "height": 499
        },
        "id": "A_qS_B2qphhZ",
        "outputId": "81993829-cbd4-4b35-cc4b-b8ff7b9298fb"
      },
      "execution_count": 35,
      "outputs": [
        {
          "output_type": "error",
          "ename": "AttributeError",
          "evalue": "ignored",
          "traceback": [
            "\u001b[0;31m---------------------------------------------------------------------------\u001b[0m",
            "\u001b[0;31mAttributeError\u001b[0m                            Traceback (most recent call last)",
            "\u001b[0;32m<ipython-input-35-2c086763fd00>\u001b[0m in \u001b[0;36m<module>\u001b[0;34m\u001b[0m\n\u001b[1;32m     17\u001b[0m \u001b[0max\u001b[0m\u001b[0;34m.\u001b[0m\u001b[0mlegend\u001b[0m\u001b[0;34m(\u001b[0m\u001b[0;34m)\u001b[0m\u001b[0;34m\u001b[0m\u001b[0;34m\u001b[0m\u001b[0m\n\u001b[1;32m     18\u001b[0m \u001b[0;34m\u001b[0m\u001b[0m\n\u001b[0;32m---> 19\u001b[0;31m \u001b[0max\u001b[0m\u001b[0;34m.\u001b[0m\u001b[0mbar_label\u001b[0m\u001b[0;34m(\u001b[0m\u001b[0mrects1\u001b[0m\u001b[0;34m,\u001b[0m \u001b[0mpadding\u001b[0m\u001b[0;34m=\u001b[0m\u001b[0;36m3\u001b[0m\u001b[0;34m)\u001b[0m\u001b[0;34m\u001b[0m\u001b[0;34m\u001b[0m\u001b[0m\n\u001b[0m\u001b[1;32m     20\u001b[0m \u001b[0max\u001b[0m\u001b[0;34m.\u001b[0m\u001b[0mbar_label\u001b[0m\u001b[0;34m(\u001b[0m\u001b[0mrects2\u001b[0m\u001b[0;34m,\u001b[0m \u001b[0mpadding\u001b[0m\u001b[0;34m=\u001b[0m\u001b[0;36m3\u001b[0m\u001b[0;34m)\u001b[0m\u001b[0;34m\u001b[0m\u001b[0;34m\u001b[0m\u001b[0m\n\u001b[1;32m     21\u001b[0m \u001b[0;34m\u001b[0m\u001b[0m\n",
            "\u001b[0;31mAttributeError\u001b[0m: 'AxesSubplot' object has no attribute 'bar_label'"
          ]
        },
        {
          "output_type": "display_data",
          "data": {
            "text/plain": [
              "<Figure size 432x288 with 1 Axes>"
            ],
            "image/png": "[encoded data removed]"
          },
          "metadata": {
            "needs_background": "light"
          }
        }
      ]
    },
    {
      "cell_type": "code",
      "source": [],
      "metadata": {
        "id": "JIeimwOJrpBM"
      },
      "execution_count": null,
      "outputs": []
    }
  ]
}